{
 "cells": [
  {
   "cell_type": "code",
   "execution_count": 1,
   "metadata": {},
   "outputs": [
    {
     "data": {
      "text/plain": [
       "'Digraph.gv.pdf'"
      ]
     },
     "execution_count": 1,
     "metadata": {},
     "output_type": "execute_result"
    }
   ],
   "source": [
    "#Huffman tree and coding\n",
    "import heapq\n",
    "import graphviz\n",
    "import json\n",
    "\n",
    "class HuffmanNode:\n",
    "    def __init__(self, probability, symbols=None):\n",
    "        self.probability = probability\n",
    "        self.symbols = symbols\n",
    "        self.children = []\n",
    "\n",
    "    def __lt__(self, other):\n",
    "        return self.probability < other.probability\n",
    "\n",
    "def build_huffman_tree(probabilities):\n",
    "    nodes = [HuffmanNode(probability, [symbol]) for symbol, probability in probabilities.items()]\n",
    "    heapq.heapify(nodes)\n",
    "\n",
    "    while len(nodes) > 4:\n",
    "        group = [heapq.heappop(nodes) for _ in range(4)]\n",
    "        parent = HuffmanNode(sum(n.probability for n in group))\n",
    "        parent.children = group\n",
    "        heapq.heappush(nodes, parent)\n",
    "\n",
    "    # Create root node\n",
    "    root = HuffmanNode(sum(n.probability for n in nodes))\n",
    "    root.children = nodes\n",
    "    return root\n",
    "\n",
    "def generate_tree_image(node, encoding_dict=None):\n",
    "    tree_graph = graphviz.Digraph()\n",
    "    generate_node_image(node, tree_graph, '', 0, encoding_dict=encoding_dict)\n",
    "    return tree_graph\n",
    "\n",
    "def generate_node_image(node, tree_graph, parent_address, count, encoding_dict=None):\n",
    "    if node.symbols is not None:\n",
    "        label = f'{node.symbols[0]} ({node.probability*100:.2f}%)'\n",
    "        if node.symbols[0] in ['A', 'T', 'G', 'C']:\n",
    "            label += ' ' + node.symbols[0]\n",
    "        if encoding_dict is not None and node.symbols[0] in encoding_dict:\n",
    "            label += f'\\nHuffman code: {encoding_dict[node.symbols[0]]}'\n",
    "    else:\n",
    "        label = f'{node.probability*100:.2f}%'\n",
    "    address = parent_address + '.' + str(count)\n",
    "    tree_graph.node(address, label=label)\n",
    "    if parent_address:\n",
    "        tree_graph.edge(parent_address, address, label='')\n",
    "    if node.children:\n",
    "        for i, child in enumerate(node.children):\n",
    "            generate_node_image(child, tree_graph, address, i, encoding_dict=encoding_dict)\n",
    "\n",
    "\n",
    "with open('mydic.json') as f:\n",
    "    mydic = json.load(f)\n",
    "\n",
    "\n",
    "with open('mydict.json') as f:\n",
    "    mydict = json.load(f)\n",
    "\n",
    "with open('encoding_dict.json') as f:\n",
    "    encoding_dict = json.load(f)\n",
    "# Example usage\n",
    "probabilities = mydict\n",
    "tree = build_huffman_tree(probabilities)\n",
    "\n",
    "# Generate codebook from tree\n",
    "\n",
    "# Generate image of Huffman tree with encoding\n",
    "tree_image = generate_tree_image(tree, encoding_dict=encoding_dict)\n",
    "tree_image.view()\n"
   ]
  },
  {
   "cell_type": "code",
   "execution_count": null,
   "metadata": {},
   "outputs": [],
   "source": []
  }
 ],
 "metadata": {
  "kernelspec": {
   "display_name": "Python 3",
   "language": "python",
   "name": "python3"
  },
  "language_info": {
   "codemirror_mode": {
    "name": "ipython",
    "version": 3
   },
   "file_extension": ".py",
   "mimetype": "text/x-python",
   "name": "python",
   "nbconvert_exporter": "python",
   "pygments_lexer": "ipython3",
   "version": "3.7.6"
  }
 },
 "nbformat": 4,
 "nbformat_minor": 2
}
