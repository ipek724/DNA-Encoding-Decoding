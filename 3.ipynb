{
 "cells": [
  {
   "cell_type": "code",
   "execution_count": 1,
   "metadata": {},
   "outputs": [
    {
     "name": "stdout",
     "output_type": "stream",
     "text": [
      "640\n"
     ]
    }
   ],
   "source": [
    "from PyPDF2 import PdfReader\n",
    "  \n",
    "reader = PdfReader('AB2-A SURVEY -2019.pdf')\n",
    "print(len(reader.pages))\n",
    "txts = []\n",
    "for i in range(0, len(reader.pages)):\n",
    "    page = reader.pages[i]\n",
    "\n",
    "    txts.append(page.extract_text())\n",
    "with open('out.txt', 'w', encoding='utf-8') as output_file:\n",
    "    for item in txts:\n",
    "        output_file.write(item)\n",
    "# print(text)"
   ]
  },
  {
   "cell_type": "code",
   "execution_count": 2,
   "metadata": {},
   "outputs": [],
   "source": [
    "#Print of strings coding\n",
    "def replace_characters_in_text_file(input_file_path, output_file_path, character_dict):\n",
    "    with open(input_file_path, 'r', encoding='utf-8') as input_file:\n",
    "        text = input_file.read()\n",
    "    chars = []\n",
    "    for char in text:\n",
    "      # print(char)\n",
    "      if char in mydict.keys():\n",
    "        chars.append(char)\n",
    "      # if char == ' ':\n",
    "      #   continue\n",
    "      # text = text.replace(char, character_dict[char])\n",
    "      # print(text) \n",
    "    # print(chars)\n",
    "    # chars = \n",
    "    chh = []\n",
    "    for ch in chars:\n",
    "      # if ch == ' ' or ch == '\\n' or ch == '“' or ch == '”' or ch == 'ﬁ' or ch == '’' or ch == '—' or ch == 'ﬀ' :\n",
    "      #   continue\n",
    "      chh.append(character_dict[ch])\n",
    "    # print(chh)\n",
    "    # print(''.join(chh))\n",
    "    text = ''.join(chh)\n",
    "    # for old_char, new_char in character_dict.items():\n",
    "    #     # print(old_char, new_char)\n",
    "    #     text = text.replace(old_char, new_char)\n",
    "        \n",
    "    #     # print(text)\n",
    "\n",
    "    with open(output_file_path, 'w', encoding='utf-8') as output_file:\n",
    "        output_file.write(text)\n",
    "\n",
    "# Example usage\n",
    "import json\n",
    "\n",
    "with open('mydict.json') as f:\n",
    "    mydict = json.load(f)\n",
    "    \n",
    "with open('encoding_dict.json') as f:\n",
    "    encoding_dict = json.load(f)\n",
    "\n",
    "input_file_path = './out.txt'\n",
    "output_file_path = 'encode_output.txt'\n",
    "character_dict = encoding_dict\n",
    "replace_characters_in_text_file(input_file_path, output_file_path, character_dict)"
   ]
  },
  {
   "cell_type": "code",
   "execution_count": 3,
   "metadata": {},
   "outputs": [
    {
     "name": "stdout",
     "output_type": "stream",
     "text": [
      "Decoded data saved to 'decoded.pdf'\n"
     ]
    }
   ],
   "source": [
    "# Huffman decoding function\n",
    "def huffman_decode(encoded_data, code):\n",
    "    inv_code = {v: k for k, v in code.items()}  # Invert the code dictionary\n",
    "    decoded_data = \"\"\n",
    "    current_code = \"\"\n",
    "    for bit in encoded_data:\n",
    "        current_code += bit\n",
    "        if current_code in inv_code:\n",
    "            decoded_data += inv_code[current_code]\n",
    "            current_code = \"\"\n",
    "    return decoded_data\n",
    "\n",
    "# Load the decoding dictionary\n",
    "import json\n",
    "\n",
    "with open('encoding_dict.json') as f:\n",
    "    decoding_dict = json.load(f)\n",
    "\n",
    "# Read the encoded data from file\n",
    "encoded_data = \"\"\n",
    "with open('encode_output.txt', 'r', encoding='utf-8') as f:\n",
    "    encoded_data = f.read()\n",
    "\n",
    "# Decode the data using Huffman decoding\n",
    "decoded_data = huffman_decode(encoded_data, decoding_dict)\n",
    "\n",
    "# Print or use the decoded data\n",
    "\n",
    "with open('decoded.txt', 'w', encoding='utf-8') as output_file:\n",
    "        output_file.write(decoded_data)\n",
    "\n",
    "# Save the decoded data to a PDF file\n",
    "# ... Your existing code for Huffman decoding and reading encoded data ...\n",
    "\n",
    "# Save the decoded data to a PDF file\n",
    "# ... Your existing code for Huffman decoding and reading encoded data ...\n",
    "\n",
    "# Save the decoded data to a PDF file\n",
    "from reportlab.lib.pagesizes import letter\n",
    "from reportlab.pdfgen import canvas\n",
    "\n",
    "pdf_filename = 'decoded.pdf'\n",
    "\n",
    "# Adjust the margins and font size as needed\n",
    "margin = 50\n",
    "font_size = 12\n",
    "\n",
    "c = canvas.Canvas(pdf_filename, pagesize=letter)\n",
    "width, height = letter\n",
    "text_object = c.beginText(margin, height - margin)\n",
    "text_object.setFont(\"Helvetica\", font_size)\n",
    "\n",
    "# Add your decoded data to the PDF\n",
    "lines = decoded_data.split('\\n')\n",
    "for line in lines:\n",
    "    text_object.textLine(line)\n",
    "\n",
    "c.drawText(text_object)\n",
    "c.save()\n",
    "\n",
    "print(f\"Decoded data saved to '{pdf_filename}'\")\n"
   ]
  },
  {
   "cell_type": "code",
   "execution_count": null,
   "metadata": {},
   "outputs": [],
   "source": []
  }
 ],
 "metadata": {
  "kernelspec": {
   "display_name": "Python 3",
   "language": "python",
   "name": "python3"
  },
  "language_info": {
   "codemirror_mode": {
    "name": "ipython",
    "version": 3
   },
   "file_extension": ".py",
   "mimetype": "text/x-python",
   "name": "python",
   "nbconvert_exporter": "python",
   "pygments_lexer": "ipython3",
   "version": "3.7.6"
  }
 },
 "nbformat": 4,
 "nbformat_minor": 2
}
