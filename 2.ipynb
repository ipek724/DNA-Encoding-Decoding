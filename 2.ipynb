{
 "cells": [
  {
   "cell_type": "code",
   "execution_count": 2,
   "metadata": {},
   "outputs": [],
   "source": [
    "import pandas as pd\n",
    "import json\n",
    "\n",
    "with open('mydic.json') as f:\n",
    "    mydic = json.load(f)\n",
    "\n",
    "\n",
    "with open('mydict.json') as f:\n",
    "    mydict = json.load(f)\n",
    "\n",
    "with open('encoding_dict.json') as f:\n",
    "    encoding_dict = json.load(f)\n",
    "\n",
    "\n",
    "probabilities = mydict\n",
    "huffman_table=pd.DataFrame.from_dict(encoding_dict,orient='index')\n",
    "huffman_table.to_csv('huffman_table.csv',index=True)\n",
    "probabilities_table=pd.DataFrame.from_dict(probabilities,orient='index')\n",
    "probabilities_table.to_csv('probabilities_table.csv',index=True)\n",
    "\n",
    "\n",
    "myKeys = list(probabilities.keys())\n",
    "myKeys.sort()\n",
    "sorted_prob = {i: probabilities[i] for i in myKeys}\n",
    "\n",
    "myKeys = list(encoding_dict.keys())\n",
    "myKeys.sort()\n",
    "sorted_encode = {i: encoding_dict[i] for i in myKeys}\n",
    "\n",
    "myKeys = list(mydic.keys())\n",
    "myKeys.sort()\n",
    "sorted_char = {i: mydic[i] for i in myKeys}\n",
    "\n",
    "dicts = [sorted_prob, sorted_encode, sorted_char]\n",
    "\n",
    "df = pd.DataFrame(dicts)\n",
    "\n",
    "df.to_csv(\"list_of_dict_to_csv.csv\")"
   ]
  },
  {
   "cell_type": "code",
   "execution_count": null,
   "metadata": {},
   "outputs": [],
   "source": []
  }
 ],
 "metadata": {
  "kernelspec": {
   "display_name": "Python 3",
   "language": "python",
   "name": "python3"
  },
  "language_info": {
   "codemirror_mode": {
    "name": "ipython",
    "version": 3
   },
   "file_extension": ".py",
   "mimetype": "text/x-python",
   "name": "python",
   "nbconvert_exporter": "python",
   "pygments_lexer": "ipython3",
   "version": "3.7.6"
  }
 },
 "nbformat": 4,
 "nbformat_minor": 2
}
